{
 "cells": [
  {
   "cell_type": "markdown",
   "metadata": {},
   "source": [
    "# Tuplas\n",
    "\n",
    "**Las tuplas son inmutables**\n",
    "\n",
    "Una tupla es una secuencia de valores muy parecida a una lista. Los valores almacenados en una tupla pueden ser de cualquier tipo, y están indexados por números enteros. La diferencia importante es que las tuplas son inmutables. Las tuplas también son comparables y hashables, por lo que podemos ordenar listas de ellas y utilizar las tuplas como valores clave en los diccionarios de Python. \n",
    "\n",
    "Sintácticamente, una tupla es una lista de valores separada por comas:"
   ]
  },
  {
   "cell_type": "code",
   "execution_count": null,
   "metadata": {},
   "outputs": [],
   "source": [
    "t = 'a', 'b', 'c', 'd', 'e' #tupla de 4 elementos\n",
    "print(t)"
   ]
  },
  {
   "cell_type": "markdown",
   "metadata": {},
   "source": [
    "Aunque no es necesario, es común encerrar las tuplas entre paréntesis para ayudarnos a identificar rápidamente las tuplas cuando miramos el código de Python: "
   ]
  },
  {
   "cell_type": "code",
   "execution_count": null,
   "metadata": {},
   "outputs": [],
   "source": [
    "t = ('esto es una cadena', 'b', 'c', 'd', 'e') #imprime la tupla y el indice 0 (b)\n",
    "print(t) #imprime la tupla\n",
    "print(t[0]) #imprime 'b'"
   ]
  },
  {
   "cell_type": "markdown",
   "metadata": {},
   "source": [
    "Para crear una tupla con un solo elemento, hay que incluir la coma final: "
   ]
  },
  {
   "cell_type": "code",
   "execution_count": null,
   "metadata": {},
   "outputs": [],
   "source": [
    "t1 = ('a',) # sin la 'coma' es un str con la 'coma' es una tupla\n",
    "print(type(t1))"
   ]
  },
  {
   "cell_type": "markdown",
   "metadata": {},
   "source": [
    "Sin la coma Python trata ('a') como una expresión con una cadena entre paréntesis que evalúa a una cadena: "
   ]
  },
  {
   "cell_type": "code",
   "execution_count": null,
   "metadata": {},
   "outputs": [],
   "source": [
    "t2 = ('a') # sin la 'coma' es un str con la 'coma' es una tupla\n",
    "print(type(t2))"
   ]
  },
  {
   "cell_type": "markdown",
   "metadata": {},
   "source": [
    "Otra forma de construir una tupla es la tupla de función incorporada. Sin ningún argumento, crea una tupla vacía: "
   ]
  },
  {
   "cell_type": "code",
   "execution_count": null,
   "metadata": {},
   "outputs": [],
   "source": [
    "t = tuple()\n",
    "print(type(t))"
   ]
  },
  {
   "cell_type": "markdown",
   "metadata": {},
   "source": [
    "Si el argumento es una secuencia (cadena, lista o tupla), el resultado de la llamada a la tupla es una tupla con los elementos de la secuencia:"
   ]
  },
  {
   "cell_type": "code",
   "execution_count": null,
   "metadata": {},
   "outputs": [],
   "source": [
    "t = tuple('lupines') #convierte cada elemento de la cadena en una tupla\n",
    "print(t)"
   ]
  },
  {
   "cell_type": "markdown",
   "metadata": {},
   "source": [
    "Debido a que tupla es el nombre de un constructor, debes evitar usarlo como un nombre de variable.\n",
    "\n",
    "La mayoría de los operadores de listas también trabajan con tuplas. El operador de corchetes indexa un elemento: "
   ]
  },
  {
   "cell_type": "code",
   "execution_count": null,
   "metadata": {},
   "outputs": [],
   "source": [
    "t = ('a', 'b', 'c', 'd', 'e')\n",
    "print(t)"
   ]
  },
  {
   "cell_type": "markdown",
   "metadata": {},
   "source": [
    "Y el operador de rebanadas selecciona una serie de elementos."
   ]
  },
  {
   "cell_type": "code",
   "execution_count": null,
   "metadata": {},
   "outputs": [],
   "source": [
    "#t = ('a', 'b', 'c', 'd', 'e')\n",
    "print(t[1:3]) #imprime 'b' y 'c'"
   ]
  },
  {
   "cell_type": "markdown",
   "metadata": {},
   "source": [
    "Pero si intentas modificar uno de los elementos de la tupla, obtienes un error: "
   ]
  },
  {
   "cell_type": "code",
   "execution_count": null,
   "metadata": {},
   "outputs": [],
   "source": [
    "t[0] = 'A' #las tuplas son inmutables, no se pueden modificar"
   ]
  },
  {
   "cell_type": "markdown",
   "metadata": {},
   "source": [
    "No se pueden modificar los elementos de una tupla, pero se puede reemplazar una tupla por otra:"
   ]
  },
  {
   "cell_type": "code",
   "execution_count": null,
   "metadata": {},
   "outputs": [],
   "source": [
    "t = ('a', 'b', 'c', 'd', 'e')\n",
    "t = ('A',) + t[1:] #cambia la 'a' por la 'A' + el resto de la tupla\n",
    "print(t)"
   ]
  },
  {
   "cell_type": "markdown",
   "metadata": {},
   "source": [
    "# Comparando tuplas\n",
    "\n",
    "Los operadores de comparación trabajan con tuplas y otras secuencias. Python comienza comparando el primer elemento de cada secuencia. Si son iguales, pasa al siguiente elemento, y así sucesivamente, hasta encontrar elementos que difieren. Los elementos subsiguientes no se consideran (aunque sean realmente grandes). "
   ]
  },
  {
   "cell_type": "code",
   "execution_count": null,
   "metadata": {},
   "outputs": [],
   "source": [
    "print((0, 1, 2) < (0, 3, 4))"
   ]
  },
  {
   "cell_type": "code",
   "execution_count": null,
   "metadata": {},
   "outputs": [],
   "source": [
    "print((0, 1, 2000000) < (0, 3, 4))"
   ]
  },
  {
   "cell_type": "markdown",
   "metadata": {},
   "source": [
    "La función de **sort** funciona de la misma manera. Se ordena principalmente por el primer elemento, pero en el caso de un empate, se clasifica por el segundo elemento, y así sucesivamente.\n",
    "\n",
    "Esta característica se presta a un patrón llamado DSU\n",
    "\n",
    "**Decorate**: ordenar una secuencia construyendo una lista de tuplas con una o más claves de clasificación que preceden a los elementos de la secuencia,\n",
    "\n",
    "**Sort**: Ordena la lista de tuplas usando la clasificación incorporada de Python, y\n",
    "\n",
    "**Undecorate** desordena la lista extrayendo los elementos ordenados de la secuencia.\n",
    "\n",
    "Por ejemplo, supongamos que tienes una lista de palabras y quieres ordenarlas de más a menos:"
   ]
  },
  {
   "cell_type": "code",
   "execution_count": null,
   "metadata": {},
   "outputs": [],
   "source": [
    "txt = \"but soft what light in yonder window breaks\"\n",
    "palabras = txt.split() #convierte el contenido de 'txt' en una lista de palabras\n",
    "print(palabras)"
   ]
  },
  {
   "cell_type": "code",
   "execution_count": null,
   "metadata": {},
   "outputs": [],
   "source": [
    "l = list()\n",
    "for subcadena in palabras:\n",
    "    l.append((len(subcadena), subcadena)) #crea una lista de tuplas (longitudPalabra, palabra)\n",
    "print(l)"
   ]
  },
  {
   "cell_type": "code",
   "execution_count": null,
   "metadata": {},
   "outputs": [],
   "source": [
    "l.sort(reverse=True) #ordena la lista de tuplas de mayor a menor iniciando por el 1er elemento de cada tupla\n",
    "print(l)\n",
    "\n",
    "res = list()\n",
    "\n",
    "for longitud, palabra in l: #crea una nueva lista solo con las palabras ordenadas por el sort\n",
    "    res.append(palabra)\n",
    "    \n",
    "print(res)"
   ]
  },
  {
   "cell_type": "markdown",
   "metadata": {},
   "source": [
    "El primer bucle construye una lista de tuplas, donde cada tupla es una palabra precedida por su longitud.\n",
    "\n",
    "La función sort compara el primer elemento, la longitud, primero, y sólo considera el segundo elemento para romper los empates. El argumento de la palabra clave reverse=True le dice a sort que vaya en orden decreciente.\n",
    "\n",
    "El segundo bucle atraviesa la lista de tuplas y construye una lista de palabras en orden descendente de longitud. Las palabras de cuatro caracteres se ordenan en orden alfabético inverso, así que \"what\" aparece antes de \"soft\" en la siguiente lista. El resultado del programa es el siguiente:"
   ]
  },
  {
   "cell_type": "markdown",
   "metadata": {},
   "source": [
    "['yonder', 'window', 'breaks', 'light', 'what', 'soft', 'but', 'in']\n",
    "\n",
    "Por supuesto, la línea pierde mucho de su impacto poético cuando se convierte en una lista Python y se ordena en orden descendente de longitud de palabra. "
   ]
  },
  {
   "cell_type": "markdown",
   "metadata": {},
   "source": [
    "# Asignación de tupla\n",
    "\n",
    "Una de las características sintácticas únicas del lenguaje Python es la capacidad de tener una tupla en el lado izquierdo de una declaración de asignación. Esto permite asignar más de una variable a la vez cuando el lado izquierdo es una secuencia.\n",
    "\n",
    "En este ejemplo tenemos una lista de dos elementos (que es una secuencia) y asignamos el primer y segundo elemento de la secuencia a las variables x e y en una única sentencia. "
   ]
  },
  {
   "cell_type": "code",
   "execution_count": null,
   "metadata": {},
   "outputs": [],
   "source": [
    "m = ['have', 'fun']\n",
    "x, y = m"
   ]
  },
  {
   "cell_type": "code",
   "execution_count": null,
   "metadata": {},
   "outputs": [],
   "source": [
    "print(x) #'have'\n",
    "print(y) #'fun'"
   ]
  },
  {
   "cell_type": "markdown",
   "metadata": {},
   "source": [
    "No es magia, Python traduce aproximadamente la sintaxis de la asignación de tupla como la siguiente:"
   ]
  },
  {
   "cell_type": "code",
   "execution_count": null,
   "metadata": {},
   "outputs": [],
   "source": [
    "m = ['have', 'fun']\n",
    "x = m[0] #'have'\n",
    "y = m[1] #'fun'"
   ]
  },
  {
   "cell_type": "code",
   "execution_count": null,
   "metadata": {},
   "outputs": [],
   "source": [
    "print(x)\n",
    "print(y)"
   ]
  },
  {
   "cell_type": "markdown",
   "metadata": {},
   "source": [
    "Cuando usamos una tupla en el lado izquierdo de la declaración de asignación, omitimos los paréntesis, pero la siguiente es una sintaxis igualmente válida:"
   ]
  },
  {
   "cell_type": "code",
   "execution_count": null,
   "metadata": {},
   "outputs": [],
   "source": [
    "m = [ 'have', 'fun' ]\n",
    "(x, y) = m #igual al caso anterior"
   ]
  },
  {
   "cell_type": "code",
   "execution_count": null,
   "metadata": {},
   "outputs": [],
   "source": [
    "print(x)\n",
    "print(y)"
   ]
  },
  {
   "cell_type": "markdown",
   "metadata": {},
   "source": [
    "Una aplicación particularmente inteligente de la asignación de tupla nos permite intercambiar los valores de dos variables en una sola declaración:"
   ]
  },
  {
   "cell_type": "code",
   "execution_count": null,
   "metadata": {},
   "outputs": [],
   "source": [
    "a = 5\n",
    "b = 10\n",
    "print(a)\n",
    "print(b)\n",
    "a, b = b, a\n",
    "print(a)\n",
    "print(b)"
   ]
  },
  {
   "cell_type": "markdown",
   "metadata": {},
   "source": [
    "Ambos lados de esta declaración son tuplas, pero el lado izquierdo es una tupla de variables; el lado derecho es una tupla de expresiones. Cada valor del lado derecho se asigna a su respectiva variable del lado izquierdo. Todas las expresiones del lado derecho se evalúan antes de cualquiera de las asignaciones.\n",
    "\n",
    "El número de variables de la izquierda y el número de valores de la derecha deben ser iguales: "
   ]
  },
  {
   "cell_type": "code",
   "execution_count": null,
   "metadata": {},
   "outputs": [],
   "source": [
    "a, b = 1, 2, 3 #error"
   ]
  },
  {
   "cell_type": "markdown",
   "metadata": {},
   "source": [
    "En general, el lado derecho puede ser cualquier tipo de secuencia (cadena, lista o tupla). \n",
    "Por ejemplo, para dividir una dirección de correo electrónico en un nombre de usuario y un dominio, se podría escribir:"
   ]
  },
  {
   "cell_type": "code",
   "execution_count": null,
   "metadata": {},
   "outputs": [],
   "source": [
    "addr = 'monty@python.org'\n",
    "uname, domain = addr.split('@')"
   ]
  },
  {
   "cell_type": "markdown",
   "metadata": {},
   "source": [
    "El valor de retorno de la división es una lista con dos elementos; el primer elemento se asigna a uname, el segundo a dominio."
   ]
  },
  {
   "cell_type": "code",
   "execution_count": null,
   "metadata": {},
   "outputs": [],
   "source": [
    "print(uname)\n",
    "print(domain)"
   ]
  },
  {
   "cell_type": "markdown",
   "metadata": {},
   "source": [
    "# Diccionarios y tuplas\n",
    "\n",
    "Los diccionarios tienen un método llamado elementos que devuelve una lista de tuplas, en la que cada tupla es un par clave-valor:"
   ]
  },
  {
   "cell_type": "code",
   "execution_count": null,
   "metadata": {},
   "outputs": [],
   "source": [
    "d = {'a':10, 'b':1, 'c':22}\n",
    "t = list(d.items()) #items(), devuelve una lista de tuplas\n",
    "print(t)"
   ]
  },
  {
   "cell_type": "markdown",
   "metadata": {},
   "source": [
    "Como es de esperar de un diccionario, los artículos no están en un orden particular. \n",
    "\n",
    "Sin embargo, como la lista de tuplas es una lista, y las tuplas son comparables, podemos ahora ordenar la lista de tuplas. Convertir un diccionario en una lista de tuplas es una forma de obtener el contenido de un diccionario ordenado por clave: "
   ]
  },
  {
   "cell_type": "code",
   "execution_count": null,
   "metadata": {},
   "outputs": [],
   "source": [
    "d = {'c':10, 'a':1, 'b':22}\n",
    "t = list(d.items()) #items(), devuelve una lista de tuplas\n",
    "print(t)"
   ]
  },
  {
   "cell_type": "code",
   "execution_count": null,
   "metadata": {},
   "outputs": [],
   "source": [
    "t.sort() #ordena la lista de tuplas\n",
    "print(t)"
   ]
  },
  {
   "cell_type": "markdown",
   "metadata": {},
   "source": [
    "La nueva lista está ordenada en orden alfabético ascendente por el valor clave."
   ]
  },
  {
   "cell_type": "markdown",
   "metadata": {},
   "source": [
    "# Usando tuplas como claves en los diccionarios\n",
    "\n",
    "Debido a que las tuplas son hashable y las listas no, si queremos crear una clave compuesta para usar en un diccionario debemos usar una tupla como clave.\n",
    "\n",
    "Nos encontraríamos con una clave compuesta si quisiéramos crear un directorio telefónico que mapee desde pares de apellidos y nombres a números de teléfono. Asumiendo que hemos definido las variables apellido, nombre y número, podríamos escribir una declaración de asignación de diccionario como sigue:"
   ]
  },
  {
   "cell_type": "code",
   "execution_count": null,
   "metadata": {},
   "outputs": [],
   "source": [
    "apellido = 'molero'\n",
    "nombre = 'luis'\n",
    "numero = '+57 325.654.7896'\n",
    "directory = dict()\n",
    "directory[apellido,nombre] = numero\n",
    "print(directory)"
   ]
  },
  {
   "cell_type": "markdown",
   "metadata": {},
   "source": [
    "La expresión entre paréntesis es una tupla. Podríamos usar la asignación de la tupla en un bucle de for para atravesar este diccionario. "
   ]
  },
  {
   "cell_type": "code",
   "execution_count": null,
   "metadata": {},
   "outputs": [],
   "source": [
    "for last, first in directory:\n",
    "    print(first, last, directory[last,first]) #devuelve nombre apellido cédula"
   ]
  },
  {
   "cell_type": "markdown",
   "metadata": {},
   "source": [
    "Este bucle atraviesa las teclas del directorio, que son tuplas. Asigna los elementos de cada tupla al último y al primero, y luego imprime el nombre y el número de teléfono correspondiente. "
   ]
  },
  {
   "cell_type": "markdown",
   "metadata": {},
   "source": [
    "# Métodos\n",
    "\n",
    "# count()\n",
    "\n",
    "Este método recibe un elemento como argumento, y cuenta la cantidad de veces que aparece en la tupla."
   ]
  },
  {
   "cell_type": "code",
   "execution_count": null,
   "metadata": {},
   "outputs": [],
   "source": [
    "valores = (\"Python\", True, \"Zope\", 5)\n",
    "print(\"True ->\", valores.count(True)) #devuelve True = 1"
   ]
  },
  {
   "cell_type": "code",
   "execution_count": null,
   "metadata": {},
   "outputs": [],
   "source": [
    "#valores = (\"Python\", True, \"Zope\", 5)\n",
    "print(\"'Zope' ->\", valores.count('Zope')) #devuelve 'Zope' = 1"
   ]
  },
  {
   "cell_type": "code",
   "execution_count": null,
   "metadata": {},
   "outputs": [],
   "source": [
    "#valores = (\"Python\", True, \"Zope\", 5)\n",
    "print(\"5 ->\", valores.count(5)) #devuelve 5 = 1"
   ]
  },
  {
   "cell_type": "markdown",
   "metadata": {},
   "source": [
    "# index()\n",
    "\n",
    "Comparte el mismo método index() del tipo lista. Este método recibe un elemento como argumento, y devuelve el índice de su primera aparición en la tupla."
   ]
  },
  {
   "cell_type": "code",
   "execution_count": null,
   "metadata": {},
   "outputs": [],
   "source": [
    "valores = (\"Python\", True, \"Zope\", 5)"
   ]
  },
  {
   "cell_type": "code",
   "execution_count": null,
   "metadata": {},
   "outputs": [],
   "source": [
    "print(valores.index(True)) #devuelve 1"
   ]
  },
  {
   "cell_type": "code",
   "execution_count": null,
   "metadata": {},
   "outputs": [],
   "source": [
    "print(valores.index(5)) #devuelve 3"
   ]
  },
  {
   "cell_type": "markdown",
   "metadata": {},
   "source": [
    "El método devuelve un excepción ValueError si el elemento no se encuentra en la tupla, o en el entorno definido."
   ]
  },
  {
   "cell_type": "code",
   "execution_count": null,
   "metadata": {},
   "outputs": [],
   "source": [
    "valores = (\"Python\", True, \"Zope\", 5)\n",
    "print(valores.index(4)) #error"
   ]
  },
  {
   "cell_type": "markdown",
   "metadata": {},
   "source": [
    "# Convertir a tuplas\n",
    "\n",
    "Para convertir a tipos tuplas debe usar la función tuple(), la cual está integrada en el interprete Python."
   ]
  },
  {
   "cell_type": "markdown",
   "metadata": {},
   "source": [
    "# Ejemplos\n",
    "\n",
    "A continuación, se presentan algunos ejemplos de su uso:\n",
    "\n",
    "# Ejemplo simple de tupla"
   ]
  },
  {
   "cell_type": "code",
   "execution_count": null,
   "metadata": {},
   "outputs": [],
   "source": [
    "tupla = 12345, 54321, 'hola!'\n",
    "print(tupla)"
   ]
  },
  {
   "cell_type": "markdown",
   "metadata": {},
   "source": [
    "# Ejemplo de tuplas anidadas"
   ]
  },
  {
   "cell_type": "code",
   "execution_count": null,
   "metadata": {},
   "outputs": [],
   "source": [
    "otra = tupla, (1, 2, 3, 4, 5) #une las dos tuplas = ((12345, 54321, 'hola!'), (1, 2, 3, 4, 5))\n",
    "print(otra)"
   ]
  },
  {
   "cell_type": "markdown",
   "metadata": {},
   "source": [
    "# Operación asignar de valores de una tupla en variables"
   ]
  },
  {
   "cell_type": "code",
   "execution_count": null,
   "metadata": {},
   "outputs": [],
   "source": [
    "#tupla = 12345, 54321, 'hola!'\n",
    "x, y, z = tupla #divide el contenidod de la tupla en 3 variables.\n",
    "print(x)\n",
    "print(y)\n",
    "print(z)"
   ]
  },
  {
   "cell_type": "markdown",
   "metadata": {},
   "source": [
    "# Cuidar seguimiento del número de la numeración"
   ]
  },
  {
   "cell_type": "markdown",
   "metadata": {},
   "source": [
    "Una tarea común es iterar sobre una secuencia mientras cuidas el seguimiento de la numeración de un elemento.\n",
    "\n",
    "Podría usar un bucle while con un contador o un bucle for usando la función range() y la función len():"
   ]
  },
  {
   "cell_type": "code",
   "execution_count": null,
   "metadata": {},
   "outputs": [],
   "source": [
    "tecnologias = ('Zope', 'Plone', 'Pyramid')\n",
    "for i in range(0, len(tecnologias)):\n",
    "    print(i, tecnologias[i])"
   ]
  },
  {
   "cell_type": "markdown",
   "metadata": {},
   "source": [
    "# Ejemplo Compra de cosmeticos"
   ]
  },
  {
   "cell_type": "code",
   "execution_count": null,
   "metadata": {},
   "outputs": [],
   "source": [
    "def Cosmeticos(ventas: list):\n",
    "    ventacliente = {}\n",
    "    for Identificador, NombreProducto, Descripcion in ventas:\n",
    "        if ventacliente.get(Identificador) == None:\n",
    "            ventacliente[Identificador] = []                                  \n",
    "        ventacliente[Identificador].append((NombreProducto, Descripcion))                 \n",
    "    print(ventacliente) #Ocultar al ejecutar\n",
    "    return ventacliente\n",
    "\n",
    "Cosmeticos([\n",
    "    (2001,'Labial', 'Pintura de mujer Labial'),\n",
    "    (2010,'Sombra','Sombra de ojos')])\n",
    "print()"
   ]
  },
  {
   "cell_type": "code",
   "execution_count": null,
   "metadata": {},
   "outputs": [],
   "source": []
  }
 ],
 "metadata": {
  "kernelspec": {
   "name": "python376jvsc74a57bd073e03da126b73bfff3642ec5261d56fa25c444ea595de51041687efaa60dda41",
   "display_name": "Python 3.7.6 64-bit ('base': conda)"
  },
  "language_info": {
   "codemirror_mode": {
    "name": "ipython",
    "version": 2
   },
   "file_extension": ".py",
   "mimetype": "text/x-python",
   "name": "python",
   "nbconvert_exporter": "python",
   "pygments_lexer": "ipython2",
   "version": "3.7.6"
  }
 },
 "nbformat": 4,
 "nbformat_minor": 4
}