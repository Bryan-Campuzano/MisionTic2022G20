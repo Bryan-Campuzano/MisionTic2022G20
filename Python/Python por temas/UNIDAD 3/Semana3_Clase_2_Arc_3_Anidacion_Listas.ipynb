{
 "metadata": {
  "language_info": {
   "codemirror_mode": {
    "name": "ipython",
    "version": 3
   },
   "file_extension": ".py",
   "mimetype": "text/x-python",
   "name": "python",
   "nbconvert_exporter": "python",
   "pygments_lexer": "ipython3",
   "version": "3.7.6"
  },
  "orig_nbformat": 2,
  "kernelspec": {
   "name": "python376jvsc74a57bd073e03da126b73bfff3642ec5261d56fa25c444ea595de51041687efaa60dda41",
   "display_name": "Python 3.7.6 64-bit ('base': conda)"
  }
 },
 "nbformat": 4,
 "nbformat_minor": 2,
 "cells": [
  {
   "source": [
    "# Listas Paralelas\n",
    "Podemos decir que dos listas son paralelas cuando hay una relación entre las componentes de igual subíndice (misma posición) de una lista y otra."
   ],
   "cell_type": "markdown",
   "metadata": {}
  },
  {
   "source": [
    "Ejemplo\n",
    "\n",
    "Desarrollar un programa que permita cargar 5 nombres de personas y sus edades respectivas.\n",
    "\n",
    "Luego de realizar la carga por teclado de todos los datos, imprimir los nombres de las personas mayores de edad (mayores o iguales a 18 años)"
   ],
   "cell_type": "markdown",
   "metadata": {}
  },
  {
   "cell_type": "code",
   "execution_count": null,
   "metadata": {},
   "outputs": [],
   "source": [
    "nombres = []\n",
    "edades = []\n",
    "\n",
    "for x in range(5):\n",
    "    nom = input('Ingrese el nombre de la persona')\n",
    "    nombres.append(nom)\n",
    "    print(nombres)\n",
    "    ed = int(input('Ingrese la edad de la persona'))\n",
    "    edades.append(ed)\n",
    "    print(edades)\n",
    "\n",
    "print('Nombre de las personas mayores de edad: ')\n",
    "\n",
    "for x in range(5):\n",
    "    if edades[x] >= 18:\n",
    "        print(nombres[x])"
   ]
  },
  {
   "source": [
    "Listas Compuestas\n",
    "\n",
    "Se han trabajado listas cuyos componentes son de tipo: Entero, Flotante, Cadena de caracteres, Mezcla de los anteriores. Pero lo que hace tan flexible a esta estructura de datos, es que podemos almacenar componentes de tipo LISTA, esto, es equivalente al concepto de matrices o arreglos de arreglos."
   ],
   "cell_type": "markdown",
   "metadata": {}
  },
  {
   "cell_type": "code",
   "execution_count": null,
   "metadata": {},
   "outputs": [],
   "source": [
    "notas = [[4,5],[3,8],[54,87]]"
   ]
  },
  {
   "source": [
    "Ahora, Hemos definido una lista de tres elementos de tipo lista.\n",
    "\n",
    "1.- El primer elemento de la lista es otra lista de dos elementos de tipo entero.\n",
    "\n",
    "2.- De forma similar los otros dos elementos de la lista notas son listas de dos elementos de tipo entero.\n",
    "\n",
    "Para definir y crear por asignación una lista de listas tenemos:"
   ],
   "cell_type": "markdown",
   "metadata": {}
  },
  {
   "cell_type": "code",
   "execution_count": null,
   "metadata": {},
   "outputs": [],
   "source": [
    "lista = [[1,2,3],[5,6,7],[8,9,0],[10,11,12]]\n",
    "print(lista) #imprime lista completa\n",
    "print(lista[0]) #imprime indice 0 de la lista [1,2,3]\n",
    "print(lista[0][0]) #imprime el indice 0,0 = 1"
   ]
  },
  {
   "cell_type": "code",
   "execution_count": null,
   "metadata": {},
   "outputs": [],
   "source": [
    "#Accediendo a todos los elementos de la primera componente de una lista compuesta por listas:\n",
    "\n",
    "lista = [[1,2,3],[5,6,7],[8,9,0],[10,11,12]]\n",
    "for x in range(len(lista[0])):\n",
    "    print(lista[0][x])"
   ]
  },
  {
   "source": [
    "Acceder a cada elemento de cada componente tipo lista de la lista\n",
    "principal o lista de listas o matriz de elementos:"
   ],
   "cell_type": "markdown",
   "metadata": {}
  },
  {
   "cell_type": "code",
   "execution_count": null,
   "metadata": {},
   "outputs": [],
   "source": [
    "#imprimimos cada elemento entero de cada lista\n",
    "# contenido en la lista principal\n",
    "lista = [[1,2,3],[5,6,7],[8,9,0],[10,11,12]]\n",
    "for k in range(len(lista)):\n",
    "    for x in range(len(lista[k])):\n",
    "        print(lista[k][x])"
   ]
  },
  {
   "cell_type": "code",
   "execution_count": null,
   "metadata": {},
   "outputs": [],
   "source": []
  },
  {
   "source": [
    "Ejemplo 1: Requerimiento aplicando los onceptos anteriores.\n",
    "\n",
    "• Crear una lista por asignación.\n",
    "\n",
    "• La lista tiene que tener cuatro elementos.\n",
    "\n",
    "• Cada elemento debe ser una lista de 3 enteros.\n",
    "\n",
    "• Imprimir sus elementos accediendo de diferentes modos.\n"
   ],
   "cell_type": "markdown",
   "metadata": {}
  },
  {
   "cell_type": "code",
   "execution_count": null,
   "metadata": {},
   "outputs": [],
   "source": [
    "lista = [[1,2,3],[5,6,7],[8,9,0],[10,11,12]]\n",
    "#imprimimos la lista completa\n",
    "print(lista)\n",
    "print('----------')\n",
    "#imprimimos la primera componente\n",
    "print(lista[0])\n",
    "print('----------')\n",
    "#imprimimos la primera componente de la lista contenida\n",
    "# en la primera componente de la lista principal\n",
    "print(lista[0][0])\n",
    "print('----------')\n",
    "#imprimimos con un For la lista contenida en la primera componente\n",
    "for x in range(len(lista[0])):\n",
    "    print (lista[0][x])\n",
    "print('----------')\n",
    "#imprimimos cada elemento entero de cada lista contenida en la lista\n",
    "for k in range (len(lista)):\n",
    "    for x in range (len(lista[k])):\n",
    "        print (lista[k][x])\n",
    "print('----------')"
   ]
  },
  {
   "source": [
    "Ejemplo 2:\n",
    "\n",
    "• Crear una lista por asignación.\n",
    "\n",
    "• La lista debe tener 2 elementos.\n",
    "\n",
    "• Cada elemento debe ser una lista de 5 enteros.\n",
    "\n",
    "• Calcular y mostrar la suma de cada lista contenida en la lista principal.\n"
   ],
   "cell_type": "markdown",
   "metadata": {}
  },
  {
   "cell_type": "code",
   "execution_count": null,
   "metadata": {},
   "outputs": [],
   "source": [
    "#Devuelve la suma de cada una de las dos sublistas contenidas en la lista \n",
    "lista = [[1,3,5,7,9], [2,4,6,8,10]]\n",
    "for k in range(len(lista)):\n",
    "    suma = 0\n",
    "    for x in range(len(lista[k])):\n",
    "        suma += lista[k][x]\n",
    "    print(suma)"
   ]
  },
  {
   "source": [
    "Ejemplo 3:\n",
    "\n",
    "• Crear una lista por asignación. La lista debe que tener 5 elementos.\n",
    "\n",
    "• Cada elemento debe ser una lista, la primera lista tiene que tener un elemento, la segunda dos elementos, la tercera tres elementos y así sucesivamente (componentes tipo lista de tamaño variable).\n",
    "\n",
    "• Sumar todos los valores de las listas."
   ],
   "cell_type": "markdown",
   "metadata": {}
  },
  {
   "cell_type": "code",
   "execution_count": null,
   "metadata": {},
   "outputs": [],
   "source": [
    "lista = [[1],[1,2],[1,2,3],[1,2,3,4],[1,2,3,4,5]]\n",
    "suma = 0\n",
    "for k in range(len(lista)):\n",
    "    for x in range(len(lista[k])):\n",
    "        suma += lista[k][x]\n",
    "    print(suma)"
   ]
  },
  {
   "source": [
    "Carga dinámica de listas:\n",
    "\n",
    "• En algunas situaciones debemos crear una nueva lista ingresando los datos por teclado o por operaciones del mismo programa.\n",
    "\n",
    "• Se puede requerir la anidación de los elementos dependiendo de lo que se quiera representar.\n"
   ],
   "cell_type": "markdown",
   "metadata": {}
  },
  {
   "source": [
    "Ejemplo 4:\n",
    "\n",
    "• Definir dos listas de 3 elementos.\n",
    "\n",
    "• En la primera lista cada elemento es una sublista con el nombre del padre y la madre de una familia.\n",
    "\n",
    "• La segunda lista está constituida por listas con los nombres de los hijos de cada familia. (Puede haber familias sin hijos)\n",
    "\n",
    "• Imprimir los nombres del padre, la madre y sus hijos. También imprimir solo el nombre del padre y la cantidad de hijos que tiene dicho padre.\n",
    "\n",
    " Listas posibles según el enunciado:\n"
   ],
   "cell_type": "markdown",
   "metadata": {}
  },
  {
   "cell_type": "code",
   "execution_count": null,
   "metadata": {},
   "outputs": [],
   "source": [
    "#padres = [['juan','ana'],['carlos','maria'], ['pedro','laura']]\n",
    "#hijos = [['marcos','alberto','silvia'], [], ['oscar']]\n",
    "\n",
    "padres = []\n",
    "hijos = []\n",
    "for k in range(3):\n",
    "    pa = input('Ingrese el nombre del padre: ')\n",
    "    ma = input('Ingrese el nombre del madre: ')\n",
    "    padres.append([pa,ma])\n",
    "    cant = int(input('Cuantos hijos tiene esta familia: '))\n",
    "    hijos.append([])\n",
    "    for x in range(cant):\n",
    "        nom = input('Ingrese el nombre del hijo: ')\n",
    "        hijos[k].append(nom)\n",
    "\n",
    "print('Listado del padre, madre y sus hijos')\n",
    "for k in range(3):\n",
    "    print('Padres: ',padres[k][0])\n",
    "    print('Madre: ',padres[k][1])\n",
    "    for x in range(len(hijos[k])):\n",
    "        print('Hijo: ', hijos[k][x])\n",
    "\n",
    "print('Listado del padre y cantidad de hijos que tiene')\n",
    "for x in range(3):\n",
    "    print('Padres: ',padres[x][0])\n",
    "    print('Cantidad de hijos: ', len(hijos[x]))"
   ]
  },
  {
   "cell_type": "code",
   "execution_count": null,
   "metadata": {},
   "outputs": [],
   "source": []
  }
 ]
}