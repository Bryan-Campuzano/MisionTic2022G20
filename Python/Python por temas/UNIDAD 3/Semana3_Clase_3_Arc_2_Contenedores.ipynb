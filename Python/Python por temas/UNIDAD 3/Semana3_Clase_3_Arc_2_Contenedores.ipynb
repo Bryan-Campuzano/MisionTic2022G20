{
 "metadata": {
  "language_info": {
   "codemirror_mode": {
    "name": "ipython",
    "version": 3
   },
   "file_extension": ".py",
   "mimetype": "text/x-python",
   "name": "python",
   "nbconvert_exporter": "python",
   "pygments_lexer": "ipython3",
   "version": "3.7.6"
  },
  "orig_nbformat": 2,
  "kernelspec": {
   "name": "python376jvsc74a57bd073e03da126b73bfff3642ec5261d56fa25c444ea595de51041687efaa60dda41",
   "display_name": "Python 3.7.6 64-bit ('base': conda)"
  }
 },
 "nbformat": 4,
 "nbformat_minor": 2,
 "cells": [
  {
   "source": [
    "# Utilización de Contenedores\n",
    "\n",
    "Listas, Conjuntos Tuplas y Dicionarios"
   ],
   "cell_type": "markdown",
   "metadata": {}
  },
  {
   "cell_type": "code",
   "execution_count": null,
   "metadata": {},
   "outputs": [],
   "source": [
    "\"\"\"\n",
    "Contenedores en Python\n",
    "\n",
    "• Colecciones, arreglos o contenedores:\n",
    "\n",
    "\"Bolsas\" para agrupar de diferentes maneras varios datos.\n",
    "\n",
    "• Técnicamente: Estructuras de Datos.\n",
    "\n",
    "• Clasificación habitual: mutables e inmutables.\n",
    "\n",
    "• En este caso priorizaremos la clasificación según su funcionalidad.\n",
    "\n",
    "Contenedores:\n",
    "      ----------------                ------------------- \n",
    "      | Secuenciales |                | No Secuenciales |\n",
    "      | (Ordenados)  |                | (Función Hash)  |\n",
    "      ----------------                -------------------\n",
    " \n",
    "------------   --------------    ------------    --------------\n",
    "| Mutables |   | Inmutables |    | Mutables |    | Inmutables |\n",
    "------------   --------------    ------------    --------------\n",
    "  Listas          Cadenas        Diccionarios      Conjuntos\n",
    "\n",
    "                  Tuplas\n",
    "\"\"\""
   ]
  },
  {
   "source": [
    "Ordenados\n",
    "\n",
    "• Cuando los elementos deben seguir un orden o una secuencia al ser coleccionados, se recomienda el uso de las listas, las cadenas y las tuplas.\n",
    "\n",
    "• El contenido de los elementos se puede repetir, pero son etiquetados con un índice autonumérico.\n",
    "\n",
    "• Si la colección no se va a modificar durante el tiempo de ejecución, las cadenas para los caracteres y las tuplas como equivalentes de listas son las indicadas.\n",
    "\n",
    "• Si la colección se va a modificar durante el tiempo de ejecución, las listas serán la mejor opción.\n",
    "\n",
    "\n",
    "\n",
    "Ordenados: Strings (Cadenas)\n",
    "\n",
    "• Utilizamos este contenedor para almacenar flujos de caracteres.\n",
    "\n",
    "• Una vez almacenado, no se modificará, podrían generarse nuevas cadenas a partir de estos, pero sin actualizaciones.\n",
    "\n",
    "• Ejemplo: Almacenar un atributo alfanumérico para luego hacerlo parte de un flujo que se empleará en un mensaje.\n"
   ],
   "cell_type": "markdown",
   "metadata": {}
  },
  {
   "cell_type": "code",
   "execution_count": null,
   "metadata": {},
   "outputs": [],
   "source": [
    "cadena = 'Este es un atrbuto '\n",
    "nuevaCadena = cadena + 'nuevo'\n",
    "print('Flujo:', nuevaCadena) #-> 'Flujo: Este es un atributo nuevo'\n",
    "print(nuevaCadena[0:4]) #-> 'Este"
   ]
  },
  {
   "source": [
    "Ordenados: Tuplas\n",
    "\n",
    "Ejemplos:\n",
    "• Almacenamiento de parámetros cargados desde una base de datos o desde un archivo, que servirán como base de los cómputos que se realicen durante un proceso; casos como límites superiores, valores de configuración.\n"
   ],
   "cell_type": "markdown",
   "metadata": {}
  },
  {
   "cell_type": "code",
   "execution_count": null,
   "metadata": {},
   "outputs": [],
   "source": [
    "#Ejemplo 1: Envío de información entre módulos que no debe modificarse.\n",
    "def calcularCostoArticulo():\n",
    "    nombreUsuario = 'tripulanteMisionTIC2022'\n",
    "    password = 'pr0gr4m4c10n'\n",
    "    tuplaCredencialesBD = (nombreUsuario,password) #Tupla\n",
    "    impuestos = obtenerImpuestosBD(tuplaCredencialesBD)    "
   ]
  },
  {
   "cell_type": "code",
   "execution_count": null,
   "metadata": {},
   "outputs": [],
   "source": [
    "#Ejemplo 2: Distancias calculadas entre puntos geográficos:\n",
    "distancias = (('Pereira','Bogotá',230) ('Cali','Pereira',260))"
   ]
  },
  {
   "cell_type": "code",
   "execution_count": null,
   "metadata": {},
   "outputs": [],
   "source": [
    "Ordenados: Listas\n",
    "\n",
    "• Utilizamos este contenedor para almacenar elementos de diferente tipo, que van a modificarse durante la ejecución del programa, es decir, podrían agregarse, eliminarse o actualizarse elementos.\n",
    "\n",
    "Ejemplos:\n",
    "\n",
    "• Construcción de un itinerario turístico.\n",
    "\n",
    "• Productos en un carrito de compras."
   ]
  },
  {
   "source": [
    "Ejemplo: Coleccionar destinos de itinerario turístico y actualizarlo:"
   ],
   "cell_type": "markdown",
   "metadata": {}
  },
  {
   "cell_type": "code",
   "execution_count": null,
   "metadata": {},
   "outputs": [],
   "source": [
    "#Ejemplo: Coleccionar destinos de itinerario turístico y actualizarlo:\n",
    "itinerario = [['Santa Marta',1],['Cartagena',2],['San Andrés',4]]\n",
    "print(itinerario,'\\n')\n",
    "itinerario.append(['Providencia',2]) #Agregar Providencia, 2 noches\n",
    "print(itinerario,'\\n')\n",
    "itinerario.pop(1) #Eliminar visita a Cartagena, 2 noches\n",
    "print(itinerario,'\\n')\n",
    "itinerario[0][1] += 1 #Agregar una noche en Santa Marta\n",
    "print(itinerario,'\\n')\n",
    "#Cambiar el inicio del itinerario por Providencia:\n",
    "#Dejar Santa Marta para el final\n",
    "itinerario[0],itinerario[1], itinerario[2] = itinerario[-1], itinerario[1], itinerario[0]\n",
    "print(itinerario) #-> [['Providencia', 2], ['San Andrés', 4], ['Santa Marta', 2]]"
   ]
  },
  {
   "source": [
    "Ordenados: Recorridos\n",
    "\n",
    "• Todos los contenedores ordenados cuentan con un autonumérico, por lo tanto, pueden recorrerse con un subíndice:"
   ],
   "cell_type": "markdown",
   "metadata": {}
  },
  {
   "cell_type": "code",
   "execution_count": null,
   "metadata": {},
   "outputs": [],
   "source": [
    "#Mostrar posición y contenido de cada elemento\n",
    "itinerario = [['Santa Marta',1],['Cartagena',2],['San Andrés',4]]\n",
    "for i in range(len(itinerario)):\n",
    "    print('Elemento en la posición',i)\n",
    "    print(itinerario[i])"
   ]
  },
  {
   "source": [
    "O se puede utilizar la carga de cada elemento del iterable en una variable auxiliar:"
   ],
   "cell_type": "markdown",
   "metadata": {}
  },
  {
   "cell_type": "code",
   "execution_count": null,
   "metadata": {},
   "outputs": [],
   "source": [
    "itinerario = [['Santa Marta',1],['Cartagena',2],['San Andrés',4]]\n",
    "for elemento in itinerario:\n",
    "    print(elemento)"
   ]
  },
  {
   "cell_type": "code",
   "execution_count": null,
   "metadata": {},
   "outputs": [],
   "source": [
    "Ordenados: Recorridos\n",
    "\n",
    "• La combinación de los recorridos anteriores, para evitar notación de subíndice, pero tener disponible la posición en cada iteración tenemos\n",
    "\n",
    "enumerate:"
   ]
  },
  {
   "cell_type": "code",
   "execution_count": null,
   "metadata": {},
   "outputs": [],
   "source": [
    "itinerario = [['Santa Marta',1],['Cartagena',2],['San Andrés',4]]\n",
    "for i, destino in enumerate(itinerario):\n",
    "    print('Posición: ',i)\n",
    "    print(destino)"
   ]
  },
  {
   "source": [
    "No Secuenciales\n",
    "\n",
    "• Cuando los elementos no deben seguir un orden o secuencia al ser coleccionados, se recomienda el uso de conjuntos y diccionarios.\n",
    "\n",
    "• Las etiquetas de los elementos que agrupan no se repiten, en tal caso se generaría una actualización del mismo elemento.\n",
    "\n",
    "• Las etiquetas se deben generarse, no son automáticas, pero pueden ser de cualquier tipo de dato.\n",
    "\n",
    "• Si la colección de este tipo no se va a modificar durante el tiempo de ejecución, y es una estructura sin anidaciones, los  conjuntos serían los indicados.\n",
    "\n",
    "• Si la colección se va a modificar durante el tiempo de ejecución, y la información presenta una estructura jerárquica, los diccionarios serán la mejor opción.\n"
   ],
   "cell_type": "markdown",
   "metadata": {}
  },
  {
   "source": [
    "No Secuenciales: Conjuntos\n",
    "\n",
    "• Ejemplo: Conjunto de control de los grupos de MisiónTIC2022 que han sido calificados. Notar que aunque los elementos son inmutables, la estructura tipo conjunto puede crecer o disminuir en número de elementos. Es muy útil para listados de control. Naturalmente prohíbe repeticiones.\n"
   ],
   "cell_type": "markdown",
   "metadata": {}
  },
  {
   "cell_type": "code",
   "execution_count": null,
   "metadata": {},
   "outputs": [],
   "source": [
    "gruposCalificados = {'P45','P61','P33','P87'}\n",
    "print(gruposCalificados)\n",
    "#Observar el tipo que ha sido identificado\n",
    "print('Grupos calificados es de tipo:', type(gruposCalificados))\n",
    "gruposCalificados.add('P17')\n",
    "print(gruposCalificados,'Se agrego el grupo P17')\n",
    "gruposCalificados.add('P23')\n",
    "print(gruposCalificados,'Se agrego el grupo P23')\n",
    "gruposCalificados.remove('P45')\n",
    "print(gruposCalificados,'Se removio el grupo P45')\n",
    "if 'P17' in gruposCalificados: #revisar pertenencia\n",
    "    print('P17 ya ha sido calificado!')"
   ]
  },
  {
   "source": [
    "No Secuenciales: Diccionarios\n",
    "\n",
    "Uso:\n",
    "• Almacenar información intrincada para representar entidades del mundo real en nuestro sistema de información con etiquetas (índices o llaves) personalizados.\n",
    "\n",
    "• En las versiones recientes de Python, se respeta el orden en el que fueron agregados los elementos, sin que esta sea su prioridad.\n",
    "\n",
    "Ejemplo:\n",
    "\n",
    "• Cargar información de varios estudiantes, identificados con un código establecido por registro y control de la institución a la cual pertenecen.\n"
   ],
   "cell_type": "markdown",
   "metadata": {}
  },
  {
   "cell_type": "code",
   "execution_count": null,
   "metadata": {},
   "outputs": [],
   "source": [
    "diccionarioEstudiantes = {\n",
    "    'E3454fdf':{\n",
    "        'nombres': 'Laura',\n",
    "        'apellido': 'Jaramillo'\n",
    "        'acudientes': ['Andrea','Juan'],\n",
    "        'promedio': 5.0\n",
    "    },\n",
    "    'Egg56dfg':{\n",
    "        'nombres': 'Samir',\n",
    "        'apellido': 'Gómez'\n",
    "        'acudientes': ['Alejandro','Sofía'],\n",
    "        'promedio': 5.0\n",
    "    },\n",
    "    'FHT43523':{\n",
    "        'nombres': 'Sara',\n",
    "        'apellido': 'Cabrera'\n",
    "        'acudientes': ['Carlos','Amparo'],\n",
    "        'promedio': 5.0\n",
    "    },\n",
    "    'Z4edkdf':{\n",
    "        'nombres': 'Iván',\n",
    "        'apellido': 'Arcila'\n",
    "        'acudientes': ['Esposa'],\n",
    "        'promedio': 5.0\n",
    "        123: 'Este estudiante es alérgico al maní'\n",
    "    },\n",
    "}\n"
   ]
  },
  {
   "source": [
    "No Secuenciales: Recorridos\n",
    "\n",
    "• Los contenedores no son secuenciales, no cuentan con autonuméricos, solamente etiquetas, porque no es su objetivo mantener un orden, sólo eficiencia en respuesta (adición, eliminación y consulta).\n",
    "\n",
    "• Comúnmente se utiliza la carga de cada elemento del iterable, en una variable auxiliar:"
   ],
   "cell_type": "markdown",
   "metadata": {}
  },
  {
   "cell_type": "code",
   "execution_count": null,
   "metadata": {},
   "outputs": [],
   "source": [
    "gruposCalificados = {'P45','P61','P33','P87'}\n",
    "for elemento in gruposCalificados:\n",
    "    print(elemento)"
   ]
  },
  {
   "cell_type": "code",
   "execution_count": null,
   "metadata": {},
   "outputs": [],
   "source": [
    "No Secuenciales: Recorridos\n",
    "\n",
    "• En el caso de los no secuenciales, enumerate puede servir para mostrar un conteo de los elementos, pero no hay una asociación entre este número y el elemento.\n"
   ]
  },
  {
   "cell_type": "code",
   "execution_count": null,
   "metadata": {},
   "outputs": [],
   "source": [
    "gruposCalificados = {'P45','P61','P33','P87'}\n",
    "for i,grupo in enumerate(gruposCalificados):\n",
    "    print('Numero: ',i)\n",
    "    print(grupo)"
   ]
  },
  {
   "cell_type": "code",
   "execution_count": null,
   "metadata": {},
   "outputs": [],
   "source": [
    "No Secuenciales: Recorridos\n",
    "\n",
    "• Particularmente, los diccionarios se recorren como ítems que presentan una llave y un valor, análogo a lo que se realiza con enumerate."
   ]
  },
  {
   "cell_type": "code",
   "execution_count": null,
   "metadata": {},
   "outputs": [],
   "source": [
    "diccionarioEstudiantes = {\n",
    "    'E3454fdf':{\n",
    "        'nombres': 'Laura',\n",
    "        'apellido': 'Jaramillo',\n",
    "        'acudientes': ['Andrea','Juan'],\n",
    "        'promedio': 5.0\n",
    "    },\n",
    "    'Egg56dfg':{\n",
    "        'nombres': 'Samir',\n",
    "        'apellido': 'Gómez',\n",
    "        'acudientes': ['Alejandro','Sofía'],\n",
    "        'promedio': 5.0\n",
    "    },\n",
    "    'FHT43523':{\n",
    "        'nombres': 'Sara',\n",
    "        'apellido': 'Cabrera',\n",
    "        'acudientes': ['Carlos','Amparo'],\n",
    "        'promedio': 5.0\n",
    "    },\n",
    "    'Z4edkdf':{\n",
    "        'nombres': 'Iván',\n",
    "        'apellido': 'Arcila',\n",
    "        'acudientes': ['Esposa'],\n",
    "        'promedio': 5.0,\n",
    "        '123': 'Este estudiante es alérgico al maní'\n",
    "    },\n",
    "}\n",
    "\n",
    "for codigoEstudiante,infoEstudiante in diccionarioEstudiantes.items():\n",
    "     print('Llave', codigoEstudiante)\n",
    "     print('Valor',infoEstudiante)"
   ]
  },
  {
   "cell_type": "code",
   "execution_count": null,
   "metadata": {},
   "outputs": [],
   "source": []
  }
 ]
}